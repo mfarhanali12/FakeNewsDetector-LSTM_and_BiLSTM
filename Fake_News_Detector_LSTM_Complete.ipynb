{
  "cells": [
    {
      "cell_type": "markdown",
      "metadata": {
        "id": "62M0HuCsCy2F"
      },
      "source": [
        "# <font color='#badc58'> Fake News Detector with LSTM |<br> </font>  \n",
        "# <font color='#3dc1d3'>  \n",
        "1.  Preprocess data\n",
        "2.  one_hot encoding\n",
        "3.  create LSTM model\n",
        "4.  observe the alteration in shape, flattening and then re-shaping - changes from embedding to flattening - to - dense layer <br>\n",
        "5. Observe the total weight matrix size of the LSTM - mathematical verification\n",
        "\n",
        "## <font color='#f9ca24'> LSTM\n",
        " <font color='00BFEB'>'fit' or train on some training data; joins these two steps and is used for the initial fitting of parameters on the training set 𝑥, while also returning the transformed 𝑥′. Internally, the transformer object just calls first fit() and then transform() on the same data.<br>In the output, you will see (20000, 5) which means that each of the document has 5 columns where each column corresponds to the probability value of a particular topic."
      ]
    },
    {
      "cell_type": "code",
      "execution_count": null,
      "metadata": {
        "id": "VJuHztF_mRyy"
      },
      "outputs": [],
      "source": [
        "import re\n",
        "import pandas as pd\n",
        "import nltk\n",
        "import numpy as np\n",
        "import tensorflow as tf\n",
        "from tensorflow.keras.layers import Embedding, Dense, LSTM, Dropout, Bidirectional\n",
        "from tensorflow.keras.models import Sequential\n",
        "from tensorflow.keras.utils import plot_model\n",
        "from tensorflow.keras.preprocessing.text import one_hot\n",
        "from tensorflow.keras.preprocessing.sequence import pad_sequences\n",
        "from sklearn.metrics import classification_report\n",
        "from nltk.stem import WordNetLemmatizer\n",
        "from nltk.corpus import stopwords\n",
        "import matplotlib.pyplot as plt\n"
      ]
    },
    {
      "cell_type": "code",
      "source": [
        "nltk.download('stopwords')\n",
        "nltk.download('wordnet')"
      ],
      "metadata": {
        "colab": {
          "base_uri": "https://localhost:8080/"
        },
        "id": "yXg3PTK7AJkX",
        "outputId": "683d3bdd-6f17-4918-e5a9-dafa4099c877"
      },
      "execution_count": null,
      "outputs": [
        {
          "output_type": "stream",
          "name": "stderr",
          "text": [
            "[nltk_data] Downloading package stopwords to /root/nltk_data...\n",
            "[nltk_data]   Unzipping corpora/stopwords.zip.\n",
            "[nltk_data] Downloading package wordnet to /root/nltk_data...\n"
          ]
        },
        {
          "output_type": "execute_result",
          "data": {
            "text/plain": [
              "True"
            ]
          },
          "metadata": {},
          "execution_count": 2
        }
      ]
    },
    {
      "cell_type": "code",
      "execution_count": null,
      "metadata": {
        "id": "ZhOZn_gAp9D_"
      },
      "outputs": [],
      "source": [
        "# from google.colab import files\n",
        "# upload = files.upload()"
      ]
    },
    {
      "cell_type": "code",
      "source": [
        "from google.colab import drive\n",
        "drive.mount('/content/drive')"
      ],
      "metadata": {
        "id": "e0-sNtjD7Vdk",
        "colab": {
          "base_uri": "https://localhost:8080/"
        },
        "outputId": "eba3a0fa-4e57-4bda-bf66-7053e3b85b2e"
      },
      "execution_count": null,
      "outputs": [
        {
          "output_type": "stream",
          "name": "stdout",
          "text": [
            "Mounted at /content/drive\n"
          ]
        }
      ]
    },
    {
      "cell_type": "code",
      "source": [
        "!ls"
      ],
      "metadata": {
        "id": "q1CZUcRQacr2",
        "outputId": "d2aa4051-3e40-4cbf-e9a3-ccf55903e19b",
        "colab": {
          "base_uri": "https://localhost:8080/"
        }
      },
      "execution_count": null,
      "outputs": [
        {
          "output_type": "stream",
          "name": "stdout",
          "text": [
            "drive  sample_data\n"
          ]
        }
      ]
    },
    {
      "cell_type": "code",
      "execution_count": null,
      "metadata": {
        "colab": {
          "base_uri": "https://localhost:8080/",
          "height": 206
        },
        "id": "Ufa40yY4ZtgP",
        "outputId": "67ff3bb0-f8fe-496f-b915-7171dd6fbb75"
      },
      "outputs": [
        {
          "output_type": "execute_result",
          "data": {
            "text/plain": [
              "   id                                              title              author  \\\n",
              "0   0  House Dem Aide: We Didn’t Even See Comey’s Let...       Darrell Lucus   \n",
              "1   1  FLYNN: Hillary Clinton, Big Woman on Campus - ...     Daniel J. Flynn   \n",
              "2   2                  Why the Truth Might Get You Fired  Consortiumnews.com   \n",
              "3   3  15 Civilians Killed In Single US Airstrike Hav...     Jessica Purkiss   \n",
              "4   4  Iranian woman jailed for fictional unpublished...      Howard Portnoy   \n",
              "\n",
              "                                                text  label  \n",
              "0  House Dem Aide: We Didn’t Even See Comey’s Let...      1  \n",
              "1  Ever get the feeling your life circles the rou...      0  \n",
              "2  Why the Truth Might Get You Fired October 29, ...      1  \n",
              "3  Videos 15 Civilians Killed In Single US Airstr...      1  \n",
              "4  Print \\nAn Iranian woman has been sentenced to...      1  "
            ],
            "text/html": [
              "\n",
              "  <div id=\"df-95a38086-5d63-49eb-8f85-f7786cf43ecb\">\n",
              "    <div class=\"colab-df-container\">\n",
              "      <div>\n",
              "<style scoped>\n",
              "    .dataframe tbody tr th:only-of-type {\n",
              "        vertical-align: middle;\n",
              "    }\n",
              "\n",
              "    .dataframe tbody tr th {\n",
              "        vertical-align: top;\n",
              "    }\n",
              "\n",
              "    .dataframe thead th {\n",
              "        text-align: right;\n",
              "    }\n",
              "</style>\n",
              "<table border=\"1\" class=\"dataframe\">\n",
              "  <thead>\n",
              "    <tr style=\"text-align: right;\">\n",
              "      <th></th>\n",
              "      <th>id</th>\n",
              "      <th>title</th>\n",
              "      <th>author</th>\n",
              "      <th>text</th>\n",
              "      <th>label</th>\n",
              "    </tr>\n",
              "  </thead>\n",
              "  <tbody>\n",
              "    <tr>\n",
              "      <th>0</th>\n",
              "      <td>0</td>\n",
              "      <td>House Dem Aide: We Didn’t Even See Comey’s Let...</td>\n",
              "      <td>Darrell Lucus</td>\n",
              "      <td>House Dem Aide: We Didn’t Even See Comey’s Let...</td>\n",
              "      <td>1</td>\n",
              "    </tr>\n",
              "    <tr>\n",
              "      <th>1</th>\n",
              "      <td>1</td>\n",
              "      <td>FLYNN: Hillary Clinton, Big Woman on Campus - ...</td>\n",
              "      <td>Daniel J. Flynn</td>\n",
              "      <td>Ever get the feeling your life circles the rou...</td>\n",
              "      <td>0</td>\n",
              "    </tr>\n",
              "    <tr>\n",
              "      <th>2</th>\n",
              "      <td>2</td>\n",
              "      <td>Why the Truth Might Get You Fired</td>\n",
              "      <td>Consortiumnews.com</td>\n",
              "      <td>Why the Truth Might Get You Fired October 29, ...</td>\n",
              "      <td>1</td>\n",
              "    </tr>\n",
              "    <tr>\n",
              "      <th>3</th>\n",
              "      <td>3</td>\n",
              "      <td>15 Civilians Killed In Single US Airstrike Hav...</td>\n",
              "      <td>Jessica Purkiss</td>\n",
              "      <td>Videos 15 Civilians Killed In Single US Airstr...</td>\n",
              "      <td>1</td>\n",
              "    </tr>\n",
              "    <tr>\n",
              "      <th>4</th>\n",
              "      <td>4</td>\n",
              "      <td>Iranian woman jailed for fictional unpublished...</td>\n",
              "      <td>Howard Portnoy</td>\n",
              "      <td>Print \\nAn Iranian woman has been sentenced to...</td>\n",
              "      <td>1</td>\n",
              "    </tr>\n",
              "  </tbody>\n",
              "</table>\n",
              "</div>\n",
              "      <button class=\"colab-df-convert\" onclick=\"convertToInteractive('df-95a38086-5d63-49eb-8f85-f7786cf43ecb')\"\n",
              "              title=\"Convert this dataframe to an interactive table.\"\n",
              "              style=\"display:none;\">\n",
              "        \n",
              "  <svg xmlns=\"http://www.w3.org/2000/svg\" height=\"24px\"viewBox=\"0 0 24 24\"\n",
              "       width=\"24px\">\n",
              "    <path d=\"M0 0h24v24H0V0z\" fill=\"none\"/>\n",
              "    <path d=\"M18.56 5.44l.94 2.06.94-2.06 2.06-.94-2.06-.94-.94-2.06-.94 2.06-2.06.94zm-11 1L8.5 8.5l.94-2.06 2.06-.94-2.06-.94L8.5 2.5l-.94 2.06-2.06.94zm10 10l.94 2.06.94-2.06 2.06-.94-2.06-.94-.94-2.06-.94 2.06-2.06.94z\"/><path d=\"M17.41 7.96l-1.37-1.37c-.4-.4-.92-.59-1.43-.59-.52 0-1.04.2-1.43.59L10.3 9.45l-7.72 7.72c-.78.78-.78 2.05 0 2.83L4 21.41c.39.39.9.59 1.41.59.51 0 1.02-.2 1.41-.59l7.78-7.78 2.81-2.81c.8-.78.8-2.07 0-2.86zM5.41 20L4 18.59l7.72-7.72 1.47 1.35L5.41 20z\"/>\n",
              "  </svg>\n",
              "      </button>\n",
              "      \n",
              "  <style>\n",
              "    .colab-df-container {\n",
              "      display:flex;\n",
              "      flex-wrap:wrap;\n",
              "      gap: 12px;\n",
              "    }\n",
              "\n",
              "    .colab-df-convert {\n",
              "      background-color: #E8F0FE;\n",
              "      border: none;\n",
              "      border-radius: 50%;\n",
              "      cursor: pointer;\n",
              "      display: none;\n",
              "      fill: #1967D2;\n",
              "      height: 32px;\n",
              "      padding: 0 0 0 0;\n",
              "      width: 32px;\n",
              "    }\n",
              "\n",
              "    .colab-df-convert:hover {\n",
              "      background-color: #E2EBFA;\n",
              "      box-shadow: 0px 1px 2px rgba(60, 64, 67, 0.3), 0px 1px 3px 1px rgba(60, 64, 67, 0.15);\n",
              "      fill: #174EA6;\n",
              "    }\n",
              "\n",
              "    [theme=dark] .colab-df-convert {\n",
              "      background-color: #3B4455;\n",
              "      fill: #D2E3FC;\n",
              "    }\n",
              "\n",
              "    [theme=dark] .colab-df-convert:hover {\n",
              "      background-color: #434B5C;\n",
              "      box-shadow: 0px 1px 3px 1px rgba(0, 0, 0, 0.15);\n",
              "      filter: drop-shadow(0px 1px 2px rgba(0, 0, 0, 0.3));\n",
              "      fill: #FFFFFF;\n",
              "    }\n",
              "  </style>\n",
              "\n",
              "      <script>\n",
              "        const buttonEl =\n",
              "          document.querySelector('#df-95a38086-5d63-49eb-8f85-f7786cf43ecb button.colab-df-convert');\n",
              "        buttonEl.style.display =\n",
              "          google.colab.kernel.accessAllowed ? 'block' : 'none';\n",
              "\n",
              "        async function convertToInteractive(key) {\n",
              "          const element = document.querySelector('#df-95a38086-5d63-49eb-8f85-f7786cf43ecb');\n",
              "          const dataTable =\n",
              "            await google.colab.kernel.invokeFunction('convertToInteractive',\n",
              "                                                     [key], {});\n",
              "          if (!dataTable) return;\n",
              "\n",
              "          const docLinkHtml = 'Like what you see? Visit the ' +\n",
              "            '<a target=\"_blank\" href=https://colab.research.google.com/notebooks/data_table.ipynb>data table notebook</a>'\n",
              "            + ' to learn more about interactive tables.';\n",
              "          element.innerHTML = '';\n",
              "          dataTable['output_type'] = 'display_data';\n",
              "          await google.colab.output.renderOutput(dataTable, element);\n",
              "          const docLink = document.createElement('div');\n",
              "          docLink.innerHTML = docLinkHtml;\n",
              "          element.appendChild(docLink);\n",
              "        }\n",
              "      </script>\n",
              "    </div>\n",
              "  </div>\n",
              "  "
            ]
          },
          "metadata": {},
          "execution_count": 7
        }
      ],
      "source": [
        "df = pd.read_csv(\"/content/drive/MyDrive/fakenews.csv\")\n",
        "df.head()"
      ]
    },
    {
      "cell_type": "markdown",
      "metadata": {
        "id": "vQCBix5NP6JG"
      },
      "source": [
        "### <font color='#badc58'>Let's take a look at the dataset.</font>  <br/>\n",
        "---\n"
      ]
    },
    {
      "cell_type": "code",
      "execution_count": null,
      "metadata": {
        "colab": {
          "base_uri": "https://localhost:8080/",
          "height": 35
        },
        "id": "5J44IY4ysxFm",
        "outputId": "10b51027-1cb7-4640-88cf-ecc604b47a16"
      },
      "outputs": [
        {
          "output_type": "execute_result",
          "data": {
            "text/plain": [
              "'House Dem Aide: We Didn’t Even See Comey’s Letter Until Jason Chaffetz Tweeted It'"
            ],
            "application/vnd.google.colaboratory.intrinsic+json": {
              "type": "string"
            }
          },
          "metadata": {},
          "execution_count": 8
        }
      ],
      "source": [
        "df['title'][0]"
      ]
    },
    {
      "cell_type": "code",
      "execution_count": null,
      "metadata": {
        "colab": {
          "base_uri": "https://localhost:8080/"
        },
        "id": "BuYOLtQhK1t2",
        "outputId": "4210ccea-a8b0-459a-bba2-f39a0c914f9a"
      },
      "outputs": [
        {
          "output_type": "execute_result",
          "data": {
            "text/plain": [
              "1"
            ]
          },
          "metadata": {},
          "execution_count": 9
        }
      ],
      "source": [
        "df['label'][0]"
      ]
    },
    {
      "cell_type": "code",
      "execution_count": null,
      "metadata": {
        "colab": {
          "base_uri": "https://localhost:8080/"
        },
        "id": "enNGZpN3tQlr",
        "outputId": "7f47516a-87e7-4b03-e022-67a5d73ef799"
      },
      "outputs": [
        {
          "output_type": "execute_result",
          "data": {
            "text/plain": [
              "(20800, 5)"
            ]
          },
          "metadata": {},
          "execution_count": 10
        }
      ],
      "source": [
        "df.shape"
      ]
    },
    {
      "cell_type": "code",
      "execution_count": null,
      "metadata": {
        "colab": {
          "base_uri": "https://localhost:8080/"
        },
        "id": "SP7hSoXitwdp",
        "outputId": "d497a67e-e550-48e7-b923-0b7af5719a8e"
      },
      "outputs": [
        {
          "output_type": "execute_result",
          "data": {
            "text/plain": [
              "id           0\n",
              "title      558\n",
              "author    1957\n",
              "text        39\n",
              "label        0\n",
              "dtype: int64"
            ]
          },
          "metadata": {},
          "execution_count": 11
        }
      ],
      "source": [
        "df.isnull().sum()"
      ]
    },
    {
      "cell_type": "markdown",
      "metadata": {
        "id": "70rT6LLRNZg3"
      },
      "source": [
        "<font color='#badc58'>drop missing data</font>  <br/>"
      ]
    },
    {
      "cell_type": "code",
      "execution_count": null,
      "metadata": {
        "colab": {
          "base_uri": "https://localhost:8080/"
        },
        "id": "UaLGCTkrt4YK",
        "outputId": "38cc6b89-c4aa-4c95-c371-cfa7ba8f0900"
      },
      "outputs": [
        {
          "output_type": "execute_result",
          "data": {
            "text/plain": [
              "id           0\n",
              "title        0\n",
              "author    1918\n",
              "text         0\n",
              "label        0\n",
              "dtype: int64"
            ]
          },
          "metadata": {},
          "execution_count": 12
        }
      ],
      "source": [
        "df = df.dropna(subset=['title','text'])\n",
        "df.isnull().sum()"
      ]
    },
    {
      "cell_type": "code",
      "execution_count": null,
      "metadata": {
        "id": "caj0WLA9uBTr"
      },
      "outputs": [],
      "source": []
    },
    {
      "cell_type": "code",
      "execution_count": null,
      "metadata": {
        "id": "NnibShNT_lY2"
      },
      "outputs": [],
      "source": []
    },
    {
      "cell_type": "markdown",
      "metadata": {
        "id": "RCBbMbCcNahk"
      },
      "source": [
        "<font color='#badc58'>Preparing to create the model\n"
      ]
    },
    {
      "cell_type": "code",
      "execution_count": null,
      "metadata": {
        "id": "8k6_ggj6xELb"
      },
      "outputs": [],
      "source": [
        "x = df.drop(columns='label')\n",
        "y = df['label']"
      ]
    },
    {
      "cell_type": "code",
      "source": [
        "print(x['title'][20194])\n",
        "print(y[20194])"
      ],
      "metadata": {
        "colab": {
          "base_uri": "https://localhost:8080/"
        },
        "id": "V0VbJNdpjjPK",
        "outputId": "3810c4e9-7a95-48ac-ae7c-0eeaa88fd653"
      },
      "execution_count": null,
      "outputs": [
        {
          "output_type": "stream",
          "name": "stdout",
          "text": [
            "Coincidence? Massive Solar Event Scheduled for Election Night… And Potential Impending Disaster\n",
            "1\n"
          ]
        }
      ]
    },
    {
      "cell_type": "code",
      "execution_count": null,
      "metadata": {
        "colab": {
          "base_uri": "https://localhost:8080/"
        },
        "id": "QDfv2tzH_9Ce",
        "outputId": "f0cd5f5b-a42b-491a-9aaf-061110889a6d"
      },
      "outputs": [
        {
          "output_type": "execute_result",
          "data": {
            "text/plain": [
              "((20203, 4), (20203,))"
            ]
          },
          "metadata": {},
          "execution_count": 15
        }
      ],
      "source": [
        "x.shape, y.shape#array dimensions"
      ]
    },
    {
      "cell_type": "markdown",
      "metadata": {
        "id": "pK-mHTgeNyzz"
      },
      "source": [
        "<font color='#7ed6df'>Data Preprocessing"
      ]
    },
    {
      "cell_type": "code",
      "execution_count": null,
      "metadata": {
        "id": "OsdRmr8nKDUV"
      },
      "outputs": [],
      "source": [
        "#create shallow copy - create a new object\n",
        "copy = x.copy()\n",
        "#copies the reference of nested objects\n",
        "copy.reset_index(inplace=True)"
      ]
    },
    {
      "cell_type": "code",
      "execution_count": null,
      "metadata": {
        "id": "RJi1ppAyHVT7"
      },
      "outputs": [],
      "source": [
        "ws = WordNetLemmatizer()\n",
        "list_titles = []\n",
        "\n",
        "for i in range(0, len(copy)):\n",
        "    headline = re.sub('[^a-zA-Z]', ' ', copy['title'][i])\n",
        "    headline = headline.lower()\n",
        "    headline = headline.split()\n",
        "    headline = [ws.lemmatize(word) for word in headline if word not in stopwords.words(\"english\")]\n",
        "    headline = ' '.join(headline)\n",
        "    list_titles.append(headline)"
      ]
    },
    {
      "cell_type": "code",
      "source": [
        "print(df['title'][5])\n",
        "print(df['label'][5])"
      ],
      "metadata": {
        "colab": {
          "base_uri": "https://localhost:8080/"
        },
        "id": "TTudQjxkbzr4",
        "outputId": "02a5ee3f-65e9-4683-b3a3-19b3429ebfb1"
      },
      "execution_count": null,
      "outputs": [
        {
          "output_type": "stream",
          "name": "stdout",
          "text": [
            "Jackie Mason: Hollywood Would Love Trump if He Bombed North Korea over Lack of Trans Bathrooms (Exclusive Video) - Breitbart\n",
            "0\n"
          ]
        }
      ]
    },
    {
      "cell_type": "code",
      "execution_count": null,
      "metadata": {
        "colab": {
          "base_uri": "https://localhost:8080/",
          "height": 35
        },
        "id": "I5PkFDUfxgWv",
        "outputId": "3002bde2-4eb3-4a3a-f064-0a0cb7af4e14"
      },
      "outputs": [
        {
          "output_type": "execute_result",
          "data": {
            "text/plain": [
              "'truth might get fired'"
            ],
            "application/vnd.google.colaboratory.intrinsic+json": {
              "type": "string"
            }
          },
          "metadata": {},
          "execution_count": 19
        }
      ],
      "source": [
        "list_titles[2]"
      ]
    },
    {
      "cell_type": "code",
      "execution_count": null,
      "metadata": {
        "id": "Jyg_iDXG68RN"
      },
      "outputs": [],
      "source": []
    },
    {
      "cell_type": "code",
      "execution_count": null,
      "metadata": {
        "id": "j8JdQpSMKHPO"
      },
      "outputs": [],
      "source": [
        "#for i in range(0, len(messages)):\n",
        "    #print('\\n', messages['title'][i])"
      ]
    },
    {
      "cell_type": "markdown",
      "metadata": {
        "id": "yraYhSMFP-h3"
      },
      "source": [
        "<font color='#f9ca24'>Keras<font color='#7ed6df'> provide the function <font color='#f9ca24'>one_hot</font> to efficiently encode each word in the titles as an interger.<br>This must be done prior to Word Embedding<br><font color='#7ed6df'>Index of words located in the Dictionary"
      ]
    },
    {
      "cell_type": "code",
      "execution_count": null,
      "metadata": {
        "colab": {
          "base_uri": "https://localhost:8080/"
        },
        "id": "3E1urI4y37Oo",
        "outputId": "4234d222-4094-4bd1-f305-172b488aa093"
      },
      "outputs": [
        {
          "output_type": "execute_result",
          "data": {
            "text/plain": [
              "[[6090, 5568, 1713, 1262, 9835, 5416, 6220, 1901, 2831, 3471],\n",
              " [112, 2841, 7927, 7828, 5364, 4968, 1767],\n",
              " [8974, 3494, 8860, 8789],\n",
              " [1068, 3498, 1698, 2160, 1253, 8081]]"
            ]
          },
          "metadata": {},
          "execution_count": 21
        }
      ],
      "source": [
        "vocab = 10000\n",
        "hot_title = [one_hot(i, vocab) for i in list_titles]\n",
        "hot_title[:4]"
      ]
    },
    {
      "cell_type": "markdown",
      "metadata": {
        "id": "GjlAGDTla0fJ"
      },
      "source": [
        "<font color='#7ed6df'>Longest sentence<br>"
      ]
    },
    {
      "cell_type": "code",
      "execution_count": null,
      "metadata": {
        "colab": {
          "base_uri": "https://localhost:8080/"
        },
        "id": "m1slLzoya1O5",
        "outputId": "7ddb1d7f-c1b6-4cf6-d945-a84c86341880"
      },
      "outputs": [
        {
          "output_type": "execute_result",
          "data": {
            "text/plain": [
              "356"
            ]
          },
          "metadata": {},
          "execution_count": 22
        }
      ],
      "source": [
        "longest = len(max(list_titles, key = len))\n",
        "longest"
      ]
    },
    {
      "cell_type": "markdown",
      "metadata": {
        "id": "d4qw6zMMRstV"
      },
      "source": [
        "<font color='#7ed6df'>Making every sentence of the data of Same Length<br> <font color='#f9ca24'>pad_sequences </font>is used to ensure that all sequences in a list have the same length. By default this is done by padding 0 in the beginning of each sequence until each sequence has the same length as the longest sequence"
      ]
    },
    {
      "cell_type": "code",
      "execution_count": null,
      "metadata": {
        "colab": {
          "base_uri": "https://localhost:8080/"
        },
        "id": "oHPI-B7zRDWk",
        "outputId": "cc94cfc8-914d-40de-fb49-f65ee3961aff"
      },
      "outputs": [
        {
          "output_type": "stream",
          "name": "stdout",
          "text": [
            "[[   0    0    0 ... 1901 2831 3471]\n",
            " [   0    0    0 ... 5364 4968 1767]\n",
            " [   0    0    0 ... 3494 8860 8789]\n",
            " ...\n",
            " [   0    0    0 ... 7958 8383 6043]\n",
            " [   0    0    0 ... 3325 2560 8117]\n",
            " [   0    0    0 ... 1608  711 9964]]\n"
          ]
        }
      ],
      "source": [
        "max_length = 356\n",
        "embed_input = pad_sequences(hot_title, maxlen = max_length, padding='pre')\n",
        "print(embed_input)"
      ]
    },
    {
      "cell_type": "markdown",
      "metadata": {
        "id": "2ByVXLgOmRt3"
      },
      "source": [
        "<font color='#7ed6df'>Arguments: <br>\n",
        "<font color='#f9ca24'>sequences </font>\n",
        "List of lists where each element is a sequence<br>\n",
        "<font color='#f9ca24'>maxlen </font>\n",
        "int, maximum length of all sequences\n",
        "\n",
        "<font color='#f9ca24'>dtype </font>\t<font color='#7ed6df'>\n",
        "type of the output sequences\n",
        "\n",
        "<font color='#f9ca24'>padding </font><font color='#7ed6df'>\n",
        "'pre' or 'post', pad either before or after each sequence.\n",
        "\n"
      ]
    },
    {
      "cell_type": "code",
      "execution_count": null,
      "metadata": {
        "id": "e5emrujMRvy0"
      },
      "outputs": [],
      "source": []
    },
    {
      "cell_type": "markdown",
      "metadata": {
        "id": "BvXIs9mHfVJO"
      },
      "source": [
        "<font color='#7ed6df'>Input shape<br>2D tensor with shape: (batch_size, input_length)."
      ]
    },
    {
      "cell_type": "markdown",
      "metadata": {
        "id": "QvXhLbg-Rz0r"
      },
      "source": [
        "<font color='#f9ca24'>Creating the Model"
      ]
    },
    {
      "cell_type": "code",
      "execution_count": null,
      "metadata": {
        "colab": {
          "base_uri": "https://localhost:8080/"
        },
        "id": "8Sll9PjfR7Ek",
        "outputId": "b56fe4c5-588c-4c24-c480-8d73e8df767e"
      },
      "outputs": [
        {
          "output_type": "stream",
          "name": "stdout",
          "text": [
            "Model: \"sequential\"\n",
            "_________________________________________________________________\n",
            " Layer (type)                Output Shape              Param #   \n",
            "=================================================================\n",
            " embedding (Embedding)       (None, 356, 40)           400000    \n",
            "                                                                 \n",
            " bidirectional (Bidirectiona  (None, 300)              229200    \n",
            " l)                                                              \n",
            "                                                                 \n",
            " dense (Dense)               (None, 1)                 301       \n",
            "                                                                 \n",
            "=================================================================\n",
            "Total params: 629,501\n",
            "Trainable params: 629,501\n",
            "Non-trainable params: 0\n",
            "_________________________________________________________________\n",
            "None\n"
          ]
        }
      ],
      "source": [
        "model = Sequential() #creating the sequential model incrementally vi the add() method\n",
        "model.add(Embedding(input_dim=vocab, output_dim= 40, input_length=356))\n",
        "model.add(Bidirectional(LSTM(150)))\n",
        "model.add(Dense(1, activation='sigmoid'))#sigmoid returns a value close to zero\n",
        "#config the model with losses and metrics - compile()\n",
        "model.compile(loss = 'binary_crossentropy', optimizer = 'adam', metrics=['accuracy'])\n",
        "print(model.summary())"
      ]
    },
    {
      "cell_type": "code",
      "source": [
        "model1 = Sequential() #creating the sequential model incrementally vi the add() method\n",
        "model1.add(Embedding(input_dim=vocab, output_dim= 40, input_length=356))\n",
        "model1.add(LSTM(150))\n",
        "model1.add(Dense(1, activation='sigmoid'))#sigmoid returns a value close to zero\n",
        "#config the model with losses and metrics - compile()\n",
        "model1.compile(loss = 'binary_crossentropy', optimizer = 'adam', metrics=['accuracy'])\n",
        "print(model1.summary())"
      ],
      "metadata": {
        "colab": {
          "base_uri": "https://localhost:8080/"
        },
        "id": "AHuDEeDY6qKu",
        "outputId": "e99bb7a4-820d-4a74-cd48-b29c5b2a04d7"
      },
      "execution_count": null,
      "outputs": [
        {
          "output_type": "stream",
          "name": "stdout",
          "text": [
            "Model: \"sequential_1\"\n",
            "_________________________________________________________________\n",
            " Layer (type)                Output Shape              Param #   \n",
            "=================================================================\n",
            " embedding_1 (Embedding)     (None, 356, 40)           400000    \n",
            "                                                                 \n",
            " lstm_1 (LSTM)               (None, 150)               114600    \n",
            "                                                                 \n",
            " dense_1 (Dense)             (None, 1)                 151       \n",
            "                                                                 \n",
            "=================================================================\n",
            "Total params: 514,751\n",
            "Trainable params: 514,751\n",
            "Non-trainable params: 0\n",
            "_________________________________________________________________\n",
            "None\n"
          ]
        }
      ]
    },
    {
      "cell_type": "markdown",
      "metadata": {
        "id": "4eqSTAsPb56b"
      },
      "source": [
        "<font color='#7ed6df'>sequence()a plain stack of layers where each layer has exactly one input tensor and one output tensor<br>create a Sequential model incrementally via the add() method<br>the input of the LSTM is always a 3D array\n",
        "(batch_size, time_steps, units)<br>\n",
        "The output of the LSTM could be a 2D array or 3D array depending upon the return_sequences argument.\n",
        "If return_sequence is False, the output is a 2D array. (batch_size, units)\n",
        "If return_sequence is True, the output is a 3D array. (batch_size, time_steps, units)<br> in this case; the return_sequence is false - this is the default, therefore - 2D LSTM output\n",
        "\n",
        "3D tensor with shape: (batch_size, input_length, output_dim).\n",
        "alteration in shape, flattening and then re-shaping\n"
      ]
    },
    {
      "cell_type": "markdown",
      "metadata": {
        "id": "Gn_nm5VoSArv"
      },
      "source": [
        "<font color='#f9ca24'>Describe model"
      ]
    },
    {
      "cell_type": "code",
      "execution_count": null,
      "metadata": {
        "colab": {
          "base_uri": "https://localhost:8080/",
          "height": 369
        },
        "id": "APhSmNXqJKlE",
        "outputId": "d8cfb729-26e3-4fdc-c864-26058014813f"
      },
      "outputs": [
        {
          "output_type": "execute_result",
          "data": {
            "image/png": "[encoded data removed]",
            "text/plain": [
              "<IPython.core.display.Image object>"
            ]
          },
          "metadata": {},
          "execution_count": 26
        }
      ],
      "source": [
        "plot_model(model)"
      ]
    },
    {
      "cell_type": "code",
      "execution_count": null,
      "metadata": {
        "colab": {
          "base_uri": "https://localhost:8080/"
        },
        "id": "U_n-Yuw7JbSW",
        "outputId": "1ab5ea5e-3a5d-4fa9-c498-7b7361af72d7"
      },
      "outputs": [
        {
          "output_type": "execute_result",
          "data": {
            "text/plain": [
              "(20203, (20203,))"
            ]
          },
          "metadata": {},
          "execution_count": 27
        }
      ],
      "source": [
        "len(embed_input),y.shape"
      ]
    },
    {
      "cell_type": "code",
      "execution_count": null,
      "metadata": {
        "colab": {
          "base_uri": "https://localhost:8080/"
        },
        "id": "wa1oIlpIJjMW",
        "outputId": "06903c9d-4742-4e60-d872-a0af0da9c5aa"
      },
      "outputs": [
        {
          "output_type": "execute_result",
          "data": {
            "text/plain": [
              "((20203, 356), (20203,))"
            ]
          },
          "metadata": {},
          "execution_count": 28
        }
      ],
      "source": [
        "x_final = np.array(embed_input)\n",
        "y_final = np.array(y)\n",
        "x_final.shape, y_final.shape"
      ]
    },
    {
      "cell_type": "code",
      "source": [
        "x_final"
      ],
      "metadata": {
        "colab": {
          "base_uri": "https://localhost:8080/"
        },
        "id": "DWnLelIHdt42",
        "outputId": "ac3bb5e5-68d0-4291-94e4-c52c9bddd644"
      },
      "execution_count": null,
      "outputs": [
        {
          "output_type": "execute_result",
          "data": {
            "text/plain": [
              "array([[   0,    0,    0, ..., 1901, 2831, 3471],\n",
              "       [   0,    0,    0, ..., 5364, 4968, 1767],\n",
              "       [   0,    0,    0, ..., 3494, 8860, 8789],\n",
              "       ...,\n",
              "       [   0,    0,    0, ..., 7958, 8383, 6043],\n",
              "       [   0,    0,    0, ..., 3325, 2560, 8117],\n",
              "       [   0,    0,    0, ..., 1608,  711, 9964]], dtype=int32)"
            ]
          },
          "metadata": {},
          "execution_count": 29
        }
      ]
    },
    {
      "cell_type": "code",
      "execution_count": null,
      "metadata": {
        "id": "lISGeQLlSD_w"
      },
      "outputs": [],
      "source": [
        "from sklearn.model_selection import train_test_split\n",
        "x_train, x_test, y_train, y_test = train_test_split(x_final, y_final, test_size=0.4, random_state=42)"
      ]
    },
    {
      "cell_type": "code",
      "execution_count": null,
      "metadata": {
        "id": "INLTV5OQ68RS",
        "colab": {
          "base_uri": "https://localhost:8080/"
        },
        "outputId": "d6689134-3538-4b52-e92b-ad24f93d218f"
      },
      "outputs": [
        {
          "output_type": "execute_result",
          "data": {
            "text/plain": [
              "(12121,)"
            ]
          },
          "metadata": {},
          "execution_count": 31
        }
      ],
      "source": [
        "y_train.shape"
      ]
    },
    {
      "cell_type": "code",
      "execution_count": null,
      "metadata": {
        "id": "XF3oMzFS68RS"
      },
      "outputs": [],
      "source": []
    },
    {
      "cell_type": "markdown",
      "metadata": {
        "id": "dHn8tv7Ifgqb"
      },
      "source": [
        "<font color='#7ed6df'>fitting the model"
      ]
    },
    {
      "cell_type": "code",
      "execution_count": null,
      "metadata": {
        "colab": {
          "base_uri": "https://localhost:8080/"
        },
        "id": "-5JwUE7vJi0O",
        "outputId": "107519b8-8c5b-45e1-822f-490c17458638"
      },
      "outputs": [
        {
          "output_type": "stream",
          "name": "stdout",
          "text": [
            "Epoch 1/10\n",
            "190/190 [==============================] - 36s 139ms/step - loss: 0.3767 - accuracy: 0.8328 - val_loss: 0.2007 - val_accuracy: 0.9250\n",
            "Epoch 2/10\n",
            "190/190 [==============================] - 11s 60ms/step - loss: 0.1226 - accuracy: 0.9542 - val_loss: 0.1866 - val_accuracy: 0.9284\n",
            "Epoch 3/10\n",
            "190/190 [==============================] - 10s 54ms/step - loss: 0.1073 - accuracy: 0.9620 - val_loss: 0.1964 - val_accuracy: 0.9235\n",
            "Epoch 4/10\n",
            "190/190 [==============================] - 11s 59ms/step - loss: 0.0537 - accuracy: 0.9820 - val_loss: 0.2361 - val_accuracy: 0.9284\n",
            "Epoch 5/10\n",
            "190/190 [==============================] - 9s 48ms/step - loss: 0.0272 - accuracy: 0.9918 - val_loss: 0.2606 - val_accuracy: 0.9248\n",
            "Epoch 6/10\n",
            "190/190 [==============================] - 9s 49ms/step - loss: 0.0372 - accuracy: 0.9890 - val_loss: 0.2402 - val_accuracy: 0.9169\n",
            "Epoch 7/10\n",
            "190/190 [==============================] - 9s 50ms/step - loss: 0.0163 - accuracy: 0.9956 - val_loss: 0.3155 - val_accuracy: 0.9186\n",
            "Epoch 8/10\n",
            "190/190 [==============================] - 10s 51ms/step - loss: 0.0052 - accuracy: 0.9992 - val_loss: 0.3690 - val_accuracy: 0.9173\n",
            "Epoch 9/10\n",
            "190/190 [==============================] - 9s 47ms/step - loss: 0.0018 - accuracy: 0.9998 - val_loss: 0.4261 - val_accuracy: 0.9196\n",
            "Epoch 10/10\n",
            "190/190 [==============================] - 9s 48ms/step - loss: 0.0011 - accuracy: 0.9998 - val_loss: 0.4506 - val_accuracy: 0.9190\n"
          ]
        }
      ],
      "source": [
        "history = model.fit(x_train, y_train, validation_data=(x_test, y_test), epochs=10, batch_size=64)"
      ]
    },
    {
      "cell_type": "code",
      "source": [
        "history1 = model1.fit(x_train, y_train, validation_data=(x_test, y_test), epochs=10, batch_size=64)"
      ],
      "metadata": {
        "colab": {
          "base_uri": "https://localhost:8080/"
        },
        "id": "P-__2mp261Ea",
        "outputId": "c601b36b-25a2-4128-bd3c-8c364872d61a"
      },
      "execution_count": null,
      "outputs": [
        {
          "output_type": "stream",
          "name": "stdout",
          "text": [
            "Epoch 1/10\n",
            "190/190 [==============================] - 19s 86ms/step - loss: 0.3207 - accuracy: 0.8518 - val_loss: 0.1853 - val_accuracy: 0.9223\n",
            "Epoch 2/10\n",
            "190/190 [==============================] - 7s 37ms/step - loss: 0.1319 - accuracy: 0.9531 - val_loss: 0.2065 - val_accuracy: 0.9196\n",
            "Epoch 3/10\n",
            "190/190 [==============================] - 6s 29ms/step - loss: 0.0819 - accuracy: 0.9725 - val_loss: 0.2161 - val_accuracy: 0.9234\n",
            "Epoch 4/10\n",
            "190/190 [==============================] - 6s 33ms/step - loss: 0.0419 - accuracy: 0.9858 - val_loss: 0.2673 - val_accuracy: 0.9201\n",
            "Epoch 5/10\n",
            "190/190 [==============================] - 6s 31ms/step - loss: 0.0200 - accuracy: 0.9939 - val_loss: 0.3326 - val_accuracy: 0.9169\n",
            "Epoch 6/10\n",
            "190/190 [==============================] - 5s 28ms/step - loss: 0.0179 - accuracy: 0.9953 - val_loss: 0.3701 - val_accuracy: 0.9185\n",
            "Epoch 7/10\n",
            "190/190 [==============================] - 6s 31ms/step - loss: 0.0051 - accuracy: 0.9986 - val_loss: 0.4377 - val_accuracy: 0.9178\n",
            "Epoch 8/10\n",
            "190/190 [==============================] - 5s 28ms/step - loss: 0.0024 - accuracy: 0.9996 - val_loss: 0.5289 - val_accuracy: 0.9081\n",
            "Epoch 9/10\n",
            "190/190 [==============================] - 6s 30ms/step - loss: 0.0055 - accuracy: 0.9989 - val_loss: 0.4864 - val_accuracy: 0.9112\n",
            "Epoch 10/10\n",
            "190/190 [==============================] - 5s 27ms/step - loss: 6.6378e-04 - accuracy: 1.0000 - val_loss: 0.5448 - val_accuracy: 0.9155\n"
          ]
        }
      ]
    },
    {
      "cell_type": "code",
      "source": [
        "y_pred = model.predict(x_test)"
      ],
      "metadata": {
        "colab": {
          "base_uri": "https://localhost:8080/"
        },
        "id": "BeLpYHVNefZD",
        "outputId": "932c5dba-c08a-4978-97c9-2378ae158997"
      },
      "execution_count": null,
      "outputs": [
        {
          "output_type": "stream",
          "name": "stdout",
          "text": [
            "253/253 [==============================] - 3s 10ms/step\n"
          ]
        }
      ]
    },
    {
      "cell_type": "code",
      "source": [
        "y_pred1 = model1.predict(x_test)"
      ],
      "metadata": {
        "colab": {
          "base_uri": "https://localhost:8080/"
        },
        "id": "y2mz00ma64dS",
        "outputId": "04b81886-f17f-4837-90a5-235e0826fa30"
      },
      "execution_count": null,
      "outputs": [
        {
          "output_type": "stream",
          "name": "stdout",
          "text": [
            "253/253 [==============================] - 3s 10ms/step\n"
          ]
        }
      ]
    },
    {
      "cell_type": "code",
      "source": [
        "print(classification_report(y_pred.round(),y_test))"
      ],
      "metadata": {
        "colab": {
          "base_uri": "https://localhost:8080/"
        },
        "id": "X6Pg6M4jfbFe",
        "outputId": "06ae2dae-5745-4bb4-e2b6-5abbdc2c0e27"
      },
      "execution_count": null,
      "outputs": [
        {
          "output_type": "stream",
          "name": "stdout",
          "text": [
            "              precision    recall  f1-score   support\n",
            "\n",
            "         0.0       0.91      0.93      0.92      4052\n",
            "         1.0       0.93      0.91      0.92      4030\n",
            "\n",
            "    accuracy                           0.92      8082\n",
            "   macro avg       0.92      0.92      0.92      8082\n",
            "weighted avg       0.92      0.92      0.92      8082\n",
            "\n"
          ]
        }
      ]
    },
    {
      "cell_type": "code",
      "source": [
        "print(classification_report(y_pred1.round(),y_test))"
      ],
      "metadata": {
        "colab": {
          "base_uri": "https://localhost:8080/"
        },
        "id": "0T2VGoBW69LF",
        "outputId": "ea5a7fcf-e423-4cb6-d3d3-e611c7d5adba"
      },
      "execution_count": null,
      "outputs": [
        {
          "output_type": "stream",
          "name": "stdout",
          "text": [
            "              precision    recall  f1-score   support\n",
            "\n",
            "         0.0       0.91      0.92      0.92      4106\n",
            "         1.0       0.92      0.91      0.91      3976\n",
            "\n",
            "    accuracy                           0.92      8082\n",
            "   macro avg       0.92      0.92      0.92      8082\n",
            "weighted avg       0.92      0.92      0.92      8082\n",
            "\n"
          ]
        }
      ]
    },
    {
      "cell_type": "markdown",
      "metadata": {
        "id": "Kqo70bV0Ka5W"
      },
      "source": [
        "<font color='#7ed6df'>Describe performance of classificaiton model <br>tweak to make sure that 'acc' and 'val_acc' and final 'accuracy' are more closer to each other. It is normal for validation accuracy to be lower than accuracy. But ideally, these values should be kept similar range. If validation accuracy is much lower than accuracy, be cautious of over fitting<br>acc' refers to accuracy of what was trained against. <br>'val_acc' refers to validation set. Note that val_acc refers to a set of samples that was not shown to the network during training and hence refers to how much your model works in general for cases outside the training set."
      ]
    },
    {
      "cell_type": "code",
      "execution_count": null,
      "metadata": {
        "id": "RoZ5yp0y68RT",
        "colab": {
          "base_uri": "https://localhost:8080/",
          "height": 472
        },
        "outputId": "f30cd875-6dd2-4ab3-e1ac-aaab53850c94"
      },
      "outputs": [
        {
          "output_type": "display_data",
          "data": {
            "text/plain": [
              "<Figure size 640x480 with 1 Axes>"
            ],
            "image/png": "[encoded data removed]"
          },
          "metadata": {}
        }
      ],
      "source": [
        "plt.plot(history.history['accuracy'])\n",
        "plt.plot(history.history['val_accuracy'])\n",
        "plt.title('BiLSTM accuracy')\n",
        "plt.ylabel('accuracy')\n",
        "plt.xlabel('epoch')\n",
        "plt.legend(['train', 'val'], loc='upper left')\n",
        "plt.show()"
      ]
    },
    {
      "cell_type": "code",
      "source": [
        "plt.plot(history1.history['accuracy'])\n",
        "plt.plot(history1.history['val_accuracy'])\n",
        "plt.title('LSTM accuracy')\n",
        "plt.ylabel('accuracy')\n",
        "plt.xlabel('epoch')\n",
        "plt.legend(['train', 'val'], loc='upper left')\n",
        "plt.show()"
      ],
      "metadata": {
        "colab": {
          "base_uri": "https://localhost:8080/",
          "height": 472
        },
        "id": "0yt__r1M7JbU",
        "outputId": "c1fdadc2-5094-4170-be1c-8aafac083ba1"
      },
      "execution_count": null,
      "outputs": [
        {
          "output_type": "display_data",
          "data": {
            "text/plain": [
              "<Figure size 640x480 with 1 Axes>"
            ],
            "image/png": "[encoded data removed]"
          },
          "metadata": {}
        }
      ]
    },
    {
      "cell_type": "code",
      "source": [
        "plt.plot(history.history['loss'])\n",
        "plt.plot(history.history['val_loss'])\n",
        "plt.title('BiLSTM loss')\n",
        "plt.ylabel('loss')\n",
        "plt.xlabel('epoch')\n",
        "plt.legend(['train', 'val'], loc='upper left')\n",
        "plt.show()"
      ],
      "metadata": {
        "colab": {
          "base_uri": "https://localhost:8080/",
          "height": 472
        },
        "id": "LgVHwDqJkp9J",
        "outputId": "66317ceb-e8fa-49cd-b283-b65ca502eda7"
      },
      "execution_count": null,
      "outputs": [
        {
          "output_type": "display_data",
          "data": {
            "text/plain": [
              "<Figure size 640x480 with 1 Axes>"
            ],
            "image/png": "[encoded data removed]"
          },
          "metadata": {}
        }
      ]
    },
    {
      "cell_type": "code",
      "source": [
        "plt.plot(history1.history['loss'])\n",
        "plt.plot(history1.history['val_loss'])\n",
        "plt.title('LSTM loss')\n",
        "plt.ylabel('loss')\n",
        "plt.xlabel('epoch')\n",
        "plt.legend(['train', 'val'], loc='upper left')\n",
        "plt.show()"
      ],
      "metadata": {
        "colab": {
          "base_uri": "https://localhost:8080/",
          "height": 472
        },
        "id": "tKwUUI8D7QQn",
        "outputId": "d398557a-f491-4c87-a8ab-518b50b07bc4"
      },
      "execution_count": null,
      "outputs": [
        {
          "output_type": "display_data",
          "data": {
            "text/plain": [
              "<Figure size 640x480 with 1 Axes>"
            ],
            "image/png": "[encoded data removed]"
          },
          "metadata": {}
        }
      ]
    },
    {
      "cell_type": "markdown",
      "metadata": {
        "id": "xay-VsxfSLCU"
      },
      "source": [
        "<font color='#7ed6df'>Evaluate Performance with Classification Report"
      ]
    },
    {
      "cell_type": "code",
      "execution_count": null,
      "metadata": {
        "colab": {
          "base_uri": "https://localhost:8080/"
        },
        "id": "-5_KHq_jSJ_f",
        "outputId": "1a490078-c4dd-4dad-c960-f7818198ebb0"
      },
      "outputs": [
        {
          "output_type": "execute_result",
          "data": {
            "text/plain": [
              "array([[3775,  378],\n",
              "       [ 277, 3652]])"
            ]
          },
          "metadata": {},
          "execution_count": 45
        }
      ],
      "source": [
        "from sklearn.metrics import confusion_matrix\n",
        "confusion_matrix(y_test, y_pred.round())"
      ]
    },
    {
      "cell_type": "code",
      "source": [
        "confusion_matrix(y_test, y_pred1.round())"
      ],
      "metadata": {
        "colab": {
          "base_uri": "https://localhost:8080/"
        },
        "id": "OaWTOj9Q7Voj",
        "outputId": "50849fc7-7df5-401b-f642-3b8617c7ce5b"
      },
      "execution_count": null,
      "outputs": [
        {
          "output_type": "execute_result",
          "data": {
            "text/plain": [
              "array([[3788,  365],\n",
              "       [ 318, 3611]])"
            ]
          },
          "metadata": {},
          "execution_count": 46
        }
      ]
    },
    {
      "cell_type": "code",
      "execution_count": null,
      "metadata": {
        "colab": {
          "base_uri": "https://localhost:8080/"
        },
        "id": "vQXEbQ4ZSR9B",
        "outputId": "f22d53f9-414d-4038-b9e4-a4098b1e0721"
      },
      "outputs": [
        {
          "output_type": "stream",
          "name": "stdout",
          "text": [
            "632/632 [==============================] - 11s 16ms/step - loss: 0.1806 - accuracy: 0.9675\n"
          ]
        },
        {
          "output_type": "execute_result",
          "data": {
            "text/plain": [
              "[0.180584117770195, 0.9675295948982239]"
            ]
          },
          "metadata": {},
          "execution_count": 47
        }
      ],
      "source": [
        "model.evaluate(embed_input, y, batch_size =  32)"
      ]
    },
    {
      "cell_type": "code",
      "source": [
        "model1.evaluate(embed_input, y, batch_size =  32)"
      ],
      "metadata": {
        "colab": {
          "base_uri": "https://localhost:8080/"
        },
        "id": "oj1RI_k56iwR",
        "outputId": "77d3365a-a81d-43b1-c9e1-e429574e1ad1"
      },
      "execution_count": null,
      "outputs": [
        {
          "output_type": "stream",
          "name": "stdout",
          "text": [
            "632/632 [==============================] - 5s 8ms/step - loss: 0.2165 - accuracy: 0.9662\n"
          ]
        },
        {
          "output_type": "execute_result",
          "data": {
            "text/plain": [
              "[0.21645793318748474, 0.9661931395530701]"
            ]
          },
          "metadata": {},
          "execution_count": 48
        }
      ]
    },
    {
      "cell_type": "code",
      "execution_count": null,
      "metadata": {
        "id": "p8w0BzSobXsN"
      },
      "outputs": [],
      "source": [
        "x_title = []\n",
        "def classification(x):\n",
        "    headline = re.sub('[^a-zA-Z]', ' ', x)\n",
        "    headline = headline.lower()\n",
        "    headline = headline.split()\n",
        "    headline = [ws.lemmatize(word) for word in headline if word not in stopwords.words(\"english\")]\n",
        "    headline = ' '.join(headline)\n",
        "    x_title.append(headline)\n",
        "    hot_title = [one_hot(i, vocab) for i in x_title]\n",
        "    embed_input = pad_sequences(hot_title, maxlen = max_length, padding='pre')\n",
        "    x_pred = model.predict(embed_input)\n",
        "    if(x_pred[0][0]>0.5):\n",
        "      return \"Fake\"\n",
        "    elif(x_pred[0][0]<0.5):\n",
        "      return \"Not Fake\""
      ]
    },
    {
      "cell_type": "code",
      "execution_count": null,
      "metadata": {
        "id": "DRKOUNsP68RV",
        "outputId": "b4ebef7e-09aa-4cd0-ca79-691cee3fbe90",
        "colab": {
          "base_uri": "https://localhost:8080/",
          "height": 53
        }
      },
      "outputs": [
        {
          "output_type": "stream",
          "name": "stdout",
          "text": [
            "1/1 [==============================] - 0s 28ms/step\n"
          ]
        },
        {
          "output_type": "execute_result",
          "data": {
            "text/plain": [
              "'Fake'"
            ],
            "application/vnd.google.colaboratory.intrinsic+json": {
              "type": "string"
            }
          },
          "metadata": {},
          "execution_count": 50
        }
      ],
      "source": [
      ]
    }
  ],
  "metadata": {
    "accelerator": "GPU",
    "colab": {
      "provenance": []
    },
    "kernelspec": {
      "display_name": "Python 3 (ipykernel)",
      "language": "python",
      "name": "python3"
    },
    "language_info": {
      "codemirror_mode": {
        "name": "ipython",
        "version": 3
      },
      "file_extension": ".py",
      "mimetype": "text/x-python",
      "name": "python",
      "nbconvert_exporter": "python",
      "pygments_lexer": "ipython3",
      "version": "3.9.12"
    }
  },
  "nbformat": 4,
  "nbformat_minor": 0
}
